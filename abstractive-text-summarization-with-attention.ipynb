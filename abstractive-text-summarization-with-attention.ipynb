{
 "cells": [
  {
   "cell_type": "markdown",
   "metadata": {
    "papermill": {
     "duration": 0.015888,
     "end_time": "2021-07-06T03:55:18.725745",
     "exception": false,
     "start_time": "2021-07-06T03:55:18.709857",
     "status": "completed"
    },
    "tags": []
   },
   "source": [
    "# What is Abstractive Text Summarization?"
   ]
  },
  {
   "cell_type": "markdown",
   "metadata": {
    "papermill": {
     "duration": 0.014684,
     "end_time": "2021-07-06T03:55:18.755471",
     "exception": false,
     "start_time": "2021-07-06T03:55:18.740787",
     "status": "completed"
    },
    "tags": []
   },
   "source": [
    "**Text Summarization - as the name suggests - involves generating short summaries of text data, in a few words or sentences. A good example of this in day-to-day life is the Inshorts news summary app, which generates summaries upto max of ~ 60 words.**\n",
    "* Extractive Summarization: This involves using the exact same sentences from the text in the summary, hence extractive.\n",
    "* Abstractive Summarization: Here, we capture the semantics of the sentence, and generate summaries using words, which could come from anywhere in our data      vocabulary."
   ]
  },
  {
   "cell_type": "markdown",
   "metadata": {
    "papermill": {
     "duration": 0.014496,
     "end_time": "2021-07-06T03:55:18.784683",
     "exception": false,
     "start_time": "2021-07-06T03:55:18.770187",
     "status": "completed"
    },
    "tags": []
   },
   "source": [
    "**The following dataset will be used for abstractive text summarization:**\n",
    "[Kaggle Abstractive Text Summarization](https://www.kaggle.com/sunnysai12345/news-summary)"
   ]
  },
  {
   "cell_type": "markdown",
   "metadata": {
    "papermill": {
     "duration": 0.014885,
     "end_time": "2021-07-06T03:55:18.814181",
     "exception": false,
     "start_time": "2021-07-06T03:55:18.799296",
     "status": "completed"
    },
    "tags": []
   },
   "source": [
    "# I. Importing Libraries and Data"
   ]
  },
  {
   "cell_type": "code",
   "execution_count": 1,
   "metadata": {
    "_cell_guid": "b1076dfc-b9ad-4769-8c92-a6c4dae69d19",
    "_uuid": "8f2839f25d086af736a60e9eeb907d3b93b6e0e5",
    "execution": {
     "iopub.execute_input": "2021-07-06T03:55:18.851434Z",
     "iopub.status.busy": "2021-07-06T03:55:18.850862Z",
     "iopub.status.idle": "2021-07-06T03:55:18.865301Z",
     "shell.execute_reply": "2021-07-06T03:55:18.866042Z",
     "shell.execute_reply.started": "2021-07-05T14:58:21.592175Z"
    },
    "papermill": {
     "duration": 0.03637,
     "end_time": "2021-07-06T03:55:18.866201",
     "exception": false,
     "start_time": "2021-07-06T03:55:18.829831",
     "status": "completed"
    },
    "tags": []
   },
   "outputs": [
    {
     "name": "stdout",
     "output_type": "stream",
     "text": [
      "/kaggle/input/news-summary/news_summary_more.csv\n",
      "/kaggle/input/news-summary/news_summary.csv\n"
     ]
    }
   ],
   "source": [
    "# This Python 3 environment comes with many helpful analytics libraries installed\n",
    "# It is defined by the kaggle/python Docker image: https://github.com/kaggle/docker-python\n",
    "# For example, here's several helpful packages to load\n",
    "\n",
    "import numpy as np # linear algebra\n",
    "import pandas as pd # data processing, CSV file I/O (e.g. pd.read_csv)\n",
    "\n",
    "# Input data files are available in the read-only \"../input/\" directory\n",
    "# For example, running this (by clicking run or pressing Shift+Enter) will list all files under the input directory\n",
    "\n",
    "import os\n",
    "for dirname, _, filenames in os.walk('/kaggle/input'):\n",
    "    for filename in filenames:\n",
    "        print(os.path.join(dirname, filename))\n",
    "\n",
    "# You can write up to 20GB to the current directory (/kaggle/working/) that gets preserved as output when you create a version using \"Save & Run All\" \n",
    "# You can also write temporary files to /kaggle/temp/, but they won't be saved outside of the current session"
   ]
  },
  {
   "cell_type": "code",
   "execution_count": 2,
   "metadata": {
    "execution": {
     "iopub.execute_input": "2021-07-06T03:55:18.903036Z",
     "iopub.status.busy": "2021-07-06T03:55:18.902443Z",
     "iopub.status.idle": "2021-07-06T03:55:24.911150Z",
     "shell.execute_reply": "2021-07-06T03:55:24.911769Z",
     "shell.execute_reply.started": "2021-07-05T14:58:42.464726Z"
    },
    "papermill": {
     "duration": 6.029925,
     "end_time": "2021-07-06T03:55:24.911957",
     "exception": false,
     "start_time": "2021-07-06T03:55:18.882032",
     "status": "completed"
    },
    "tags": []
   },
   "outputs": [],
   "source": [
    "import tensorflow as tf\n",
    "import keras\n",
    "from keras import backend as K\n",
    "from keras.layers import Layer\n",
    "from keras.layers import Concatenate\n",
    "from keras.preprocessing.text import Tokenizer\n",
    "from keras.preprocessing.sequence import pad_sequences\n",
    "from keras.layers import Dense, TimeDistributed, LSTM, Embedding, Input\n",
    "from keras import Model\n",
    "import re\n",
    "import string\n",
    "from nltk.corpus import stopwords\n",
    "from nltk.translate.bleu_score import sentence_bleu\n",
    "from nltk.translate.bleu_score import SmoothingFunction\n",
    "from sklearn.model_selection import train_test_split"
   ]
  },
  {
   "cell_type": "code",
   "execution_count": 3,
   "metadata": {
    "_cell_guid": "79c7e3d0-c299-4dcb-8224-4455121ee9b0",
    "_uuid": "d629ff2d2480ee46fbb7e2d37f6b5fab8052498a",
    "execution": {
     "iopub.execute_input": "2021-07-06T03:55:24.975507Z",
     "iopub.status.busy": "2021-07-06T03:55:24.970942Z",
     "iopub.status.idle": "2021-07-06T03:55:26.064987Z",
     "shell.execute_reply": "2021-07-06T03:55:26.064561Z",
     "shell.execute_reply.started": "2021-07-05T14:58:48.380677Z"
    },
    "papermill": {
     "duration": 1.127874,
     "end_time": "2021-07-06T03:55:26.065089",
     "exception": false,
     "start_time": "2021-07-06T03:55:24.937215",
     "status": "completed"
    },
    "tags": []
   },
   "outputs": [
    {
     "data": {
      "text/html": [
       "<div>\n",
       "<style scoped>\n",
       "    .dataframe tbody tr th:only-of-type {\n",
       "        vertical-align: middle;\n",
       "    }\n",
       "\n",
       "    .dataframe tbody tr th {\n",
       "        vertical-align: top;\n",
       "    }\n",
       "\n",
       "    .dataframe thead th {\n",
       "        text-align: right;\n",
       "    }\n",
       "</style>\n",
       "<table border=\"1\" class=\"dataframe\">\n",
       "  <thead>\n",
       "    <tr style=\"text-align: right;\">\n",
       "      <th></th>\n",
       "      <th>author</th>\n",
       "      <th>date</th>\n",
       "      <th>headlines</th>\n",
       "      <th>read_more</th>\n",
       "      <th>text</th>\n",
       "      <th>ctext</th>\n",
       "    </tr>\n",
       "  </thead>\n",
       "  <tbody>\n",
       "    <tr>\n",
       "      <th>0</th>\n",
       "      <td>Chhavi Tyagi</td>\n",
       "      <td>03 Aug 2017,Thursday</td>\n",
       "      <td>Daman &amp; Diu revokes mandatory Rakshabandhan in...</td>\n",
       "      <td>http://www.hindustantimes.com/india-news/raksh...</td>\n",
       "      <td>The Administration of Union Territory Daman an...</td>\n",
       "      <td>The Daman and Diu administration on Wednesday ...</td>\n",
       "    </tr>\n",
       "    <tr>\n",
       "      <th>1</th>\n",
       "      <td>Daisy Mowke</td>\n",
       "      <td>03 Aug 2017,Thursday</td>\n",
       "      <td>Malaika slams user who trolled her for 'divorc...</td>\n",
       "      <td>http://www.hindustantimes.com/bollywood/malaik...</td>\n",
       "      <td>Malaika Arora slammed an Instagram user who tr...</td>\n",
       "      <td>From her special numbers to TV?appearances, Bo...</td>\n",
       "    </tr>\n",
       "    <tr>\n",
       "      <th>2</th>\n",
       "      <td>Arshiya Chopra</td>\n",
       "      <td>03 Aug 2017,Thursday</td>\n",
       "      <td>'Virgin' now corrected to 'Unmarried' in IGIMS...</td>\n",
       "      <td>http://www.hindustantimes.com/patna/bihar-igim...</td>\n",
       "      <td>The Indira Gandhi Institute of Medical Science...</td>\n",
       "      <td>The Indira Gandhi Institute of Medical Science...</td>\n",
       "    </tr>\n",
       "    <tr>\n",
       "      <th>3</th>\n",
       "      <td>Sumedha Sehra</td>\n",
       "      <td>03 Aug 2017,Thursday</td>\n",
       "      <td>Aaj aapne pakad liya: LeT man Dujana before be...</td>\n",
       "      <td>http://indiatoday.intoday.in/story/abu-dujana-...</td>\n",
       "      <td>Lashkar-e-Taiba's Kashmir commander Abu Dujana...</td>\n",
       "      <td>Lashkar-e-Taiba's Kashmir commander Abu Dujana...</td>\n",
       "    </tr>\n",
       "    <tr>\n",
       "      <th>4</th>\n",
       "      <td>Aarushi Maheshwari</td>\n",
       "      <td>03 Aug 2017,Thursday</td>\n",
       "      <td>Hotel staff to get training to spot signs of s...</td>\n",
       "      <td>http://indiatoday.intoday.in/story/sex-traffic...</td>\n",
       "      <td>Hotels in Maharashtra will train their staff t...</td>\n",
       "      <td>Hotels in Mumbai and other Indian cities are t...</td>\n",
       "    </tr>\n",
       "    <tr>\n",
       "      <th>...</th>\n",
       "      <td>...</td>\n",
       "      <td>...</td>\n",
       "      <td>...</td>\n",
       "      <td>...</td>\n",
       "      <td>...</td>\n",
       "      <td>...</td>\n",
       "    </tr>\n",
       "    <tr>\n",
       "      <th>102910</th>\n",
       "      <td>NaN</td>\n",
       "      <td>NaN</td>\n",
       "      <td>CRPF jawan axed to death by Maoists in Chhatti...</td>\n",
       "      <td>NaN</td>\n",
       "      <td>A CRPF jawan was on Tuesday axed to death with...</td>\n",
       "      <td>NaN</td>\n",
       "    </tr>\n",
       "    <tr>\n",
       "      <th>102911</th>\n",
       "      <td>NaN</td>\n",
       "      <td>NaN</td>\n",
       "      <td>First song from Sonakshi Sinha's 'Noor' titled...</td>\n",
       "      <td>NaN</td>\n",
       "      <td>'Uff Yeh', the first song from the Sonakshi Si...</td>\n",
       "      <td>NaN</td>\n",
       "    </tr>\n",
       "    <tr>\n",
       "      <th>102912</th>\n",
       "      <td>NaN</td>\n",
       "      <td>NaN</td>\n",
       "      <td>'The Matrix' film to get a reboot: Reports</td>\n",
       "      <td>NaN</td>\n",
       "      <td>According to reports, a new version of the 199...</td>\n",
       "      <td>NaN</td>\n",
       "    </tr>\n",
       "    <tr>\n",
       "      <th>102913</th>\n",
       "      <td>NaN</td>\n",
       "      <td>NaN</td>\n",
       "      <td>Snoop Dogg aims gun at clown dressed as Trump ...</td>\n",
       "      <td>NaN</td>\n",
       "      <td>A new music video shows rapper Snoop Dogg aimi...</td>\n",
       "      <td>NaN</td>\n",
       "    </tr>\n",
       "    <tr>\n",
       "      <th>102914</th>\n",
       "      <td>NaN</td>\n",
       "      <td>NaN</td>\n",
       "      <td>Madhesi Morcha withdraws support to Nepalese g...</td>\n",
       "      <td>NaN</td>\n",
       "      <td>Madhesi Morcha, an alliance of seven political...</td>\n",
       "      <td>NaN</td>\n",
       "    </tr>\n",
       "  </tbody>\n",
       "</table>\n",
       "<p>102915 rows × 6 columns</p>\n",
       "</div>"
      ],
      "text/plain": [
       "                    author                  date  \\\n",
       "0             Chhavi Tyagi  03 Aug 2017,Thursday   \n",
       "1              Daisy Mowke  03 Aug 2017,Thursday   \n",
       "2           Arshiya Chopra  03 Aug 2017,Thursday   \n",
       "3            Sumedha Sehra  03 Aug 2017,Thursday   \n",
       "4       Aarushi Maheshwari  03 Aug 2017,Thursday   \n",
       "...                    ...                   ...   \n",
       "102910                 NaN                   NaN   \n",
       "102911                 NaN                   NaN   \n",
       "102912                 NaN                   NaN   \n",
       "102913                 NaN                   NaN   \n",
       "102914                 NaN                   NaN   \n",
       "\n",
       "                                                headlines  \\\n",
       "0       Daman & Diu revokes mandatory Rakshabandhan in...   \n",
       "1       Malaika slams user who trolled her for 'divorc...   \n",
       "2       'Virgin' now corrected to 'Unmarried' in IGIMS...   \n",
       "3       Aaj aapne pakad liya: LeT man Dujana before be...   \n",
       "4       Hotel staff to get training to spot signs of s...   \n",
       "...                                                   ...   \n",
       "102910  CRPF jawan axed to death by Maoists in Chhatti...   \n",
       "102911  First song from Sonakshi Sinha's 'Noor' titled...   \n",
       "102912         'The Matrix' film to get a reboot: Reports   \n",
       "102913  Snoop Dogg aims gun at clown dressed as Trump ...   \n",
       "102914  Madhesi Morcha withdraws support to Nepalese g...   \n",
       "\n",
       "                                                read_more  \\\n",
       "0       http://www.hindustantimes.com/india-news/raksh...   \n",
       "1       http://www.hindustantimes.com/bollywood/malaik...   \n",
       "2       http://www.hindustantimes.com/patna/bihar-igim...   \n",
       "3       http://indiatoday.intoday.in/story/abu-dujana-...   \n",
       "4       http://indiatoday.intoday.in/story/sex-traffic...   \n",
       "...                                                   ...   \n",
       "102910                                                NaN   \n",
       "102911                                                NaN   \n",
       "102912                                                NaN   \n",
       "102913                                                NaN   \n",
       "102914                                                NaN   \n",
       "\n",
       "                                                     text  \\\n",
       "0       The Administration of Union Territory Daman an...   \n",
       "1       Malaika Arora slammed an Instagram user who tr...   \n",
       "2       The Indira Gandhi Institute of Medical Science...   \n",
       "3       Lashkar-e-Taiba's Kashmir commander Abu Dujana...   \n",
       "4       Hotels in Maharashtra will train their staff t...   \n",
       "...                                                   ...   \n",
       "102910  A CRPF jawan was on Tuesday axed to death with...   \n",
       "102911  'Uff Yeh', the first song from the Sonakshi Si...   \n",
       "102912  According to reports, a new version of the 199...   \n",
       "102913  A new music video shows rapper Snoop Dogg aimi...   \n",
       "102914  Madhesi Morcha, an alliance of seven political...   \n",
       "\n",
       "                                                    ctext  \n",
       "0       The Daman and Diu administration on Wednesday ...  \n",
       "1       From her special numbers to TV?appearances, Bo...  \n",
       "2       The Indira Gandhi Institute of Medical Science...  \n",
       "3       Lashkar-e-Taiba's Kashmir commander Abu Dujana...  \n",
       "4       Hotels in Mumbai and other Indian cities are t...  \n",
       "...                                                   ...  \n",
       "102910                                                NaN  \n",
       "102911                                                NaN  \n",
       "102912                                                NaN  \n",
       "102913                                                NaN  \n",
       "102914                                                NaN  \n",
       "\n",
       "[102915 rows x 6 columns]"
      ]
     },
     "execution_count": 3,
     "metadata": {},
     "output_type": "execute_result"
    }
   ],
   "source": [
    "data = pd.read_csv('/kaggle/input/news-summary/news_summary.csv', encoding='latin-1')\n",
    "data_more = pd.read_csv('/kaggle/input/news-summary/news_summary_more.csv', encoding='latin-1')\n",
    "data = pd.concat([data, data_more], axis=0).reset_index(drop=True)\n",
    "data"
   ]
  },
  {
   "cell_type": "markdown",
   "metadata": {
    "papermill": {
     "duration": 0.015612,
     "end_time": "2021-07-06T03:55:26.097280",
     "exception": false,
     "start_time": "2021-07-06T03:55:26.081668",
     "status": "completed"
    },
    "tags": []
   },
   "source": [
    "# II. Data Preprocessing"
   ]
  },
  {
   "cell_type": "code",
   "execution_count": 4,
   "metadata": {
    "execution": {
     "iopub.execute_input": "2021-07-06T03:55:26.148444Z",
     "iopub.status.busy": "2021-07-06T03:55:26.146612Z",
     "iopub.status.idle": "2021-07-06T03:55:26.149018Z",
     "shell.execute_reply": "2021-07-06T03:55:26.149441Z",
     "shell.execute_reply.started": "2021-07-05T14:58:57.027064Z"
    },
    "papermill": {
     "duration": 0.036421,
     "end_time": "2021-07-06T03:55:26.149556",
     "exception": false,
     "start_time": "2021-07-06T03:55:26.113135",
     "status": "completed"
    },
    "tags": []
   },
   "outputs": [],
   "source": [
    "contraction_mapping = {\"ain't\": \"is not\", \"aren't\": \"are not\",\"can't\": \"cannot\", \"'cause\": \"because\", \"could've\": \"could have\", \"couldn't\": \"could not\",\n",
    "\n",
    "                           \"didn't\": \"did not\", \"doesn't\": \"does not\", \"don't\": \"do not\", \"hadn't\": \"had not\", \"hasn't\": \"has not\", \"haven't\": \"have not\",\n",
    "\n",
    "                           \"he'd\": \"he would\",\"he'll\": \"he will\", \"he's\": \"he is\", \"how'd\": \"how did\", \"how'd'y\": \"how do you\", \"how'll\": \"how will\", \"how's\": \"how is\",\n",
    "\n",
    "                           \"I'd\": \"I would\", \"I'd've\": \"I would have\", \"I'll\": \"I will\", \"I'll've\": \"I will have\",\"I'm\": \"I am\", \"I've\": \"I have\", \"i'd\": \"i would\",\n",
    "\n",
    "                           \"i'd've\": \"i would have\", \"i'll\": \"i will\",  \"i'll've\": \"i will have\",\"i'm\": \"i am\", \"i've\": \"i have\", \"isn't\": \"is not\", \"it'd\": \"it would\",\n",
    "\n",
    "                           \"it'd've\": \"it would have\", \"it'll\": \"it will\", \"it'll've\": \"it will have\",\"it's\": \"it is\", \"let's\": \"let us\", \"ma'am\": \"madam\",\n",
    "\n",
    "                           \"mayn't\": \"may not\", \"might've\": \"might have\",\"mightn't\": \"might not\",\"mightn't've\": \"might not have\", \"must've\": \"must have\",\n",
    "\n",
    "                           \"mustn't\": \"must not\", \"mustn't've\": \"must not have\", \"needn't\": \"need not\", \"needn't've\": \"need not have\",\"o'clock\": \"of the clock\",\n",
    "\n",
    "                           \"oughtn't\": \"ought not\", \"oughtn't've\": \"ought not have\", \"shan't\": \"shall not\", \"sha'n't\": \"shall not\", \"shan't've\": \"shall not have\",\n",
    "\n",
    "                           \"she'd\": \"she would\", \"she'd've\": \"she would have\", \"she'll\": \"she will\", \"she'll've\": \"she will have\", \"she's\": \"she is\",\n",
    "\n",
    "                           \"should've\": \"should have\", \"shouldn't\": \"should not\", \"shouldn't've\": \"should not have\", \"so've\": \"so have\",\"so's\": \"so as\",\n",
    "\n",
    "                           \"this's\": \"this is\",\"that'd\": \"that would\", \"that'd've\": \"that would have\", \"that's\": \"that is\", \"there'd\": \"there would\",\n",
    "\n",
    "                           \"there'd've\": \"there would have\", \"there's\": \"there is\", \"here's\": \"here is\",\"they'd\": \"they would\", \"they'd've\": \"they would have\",\n",
    "\n",
    "                           \"they'll\": \"they will\", \"they'll've\": \"they will have\", \"they're\": \"they are\", \"they've\": \"they have\", \"to've\": \"to have\",\n",
    "\n",
    "                           \"wasn't\": \"was not\", \"we'd\": \"we would\", \"we'd've\": \"we would have\", \"we'll\": \"we will\", \"we'll've\": \"we will have\", \"we're\": \"we are\",\n",
    "\n",
    "                           \"we've\": \"we have\", \"weren't\": \"were not\", \"what'll\": \"what will\", \"what'll've\": \"what will have\", \"what're\": \"what are\",\n",
    "\n",
    "                           \"what's\": \"what is\", \"what've\": \"what have\", \"when's\": \"when is\", \"when've\": \"when have\", \"where'd\": \"where did\", \"where's\": \"where is\",\n",
    "\n",
    "                           \"where've\": \"where have\", \"who'll\": \"who will\", \"who'll've\": \"who will have\", \"who's\": \"who is\", \"who've\": \"who have\",\n",
    "\n",
    "                           \"why's\": \"why is\", \"why've\": \"why have\", \"will've\": \"will have\", \"won't\": \"will not\", \"won't've\": \"will not have\",\n",
    "\n",
    "                           \"would've\": \"would have\", \"wouldn't\": \"would not\", \"wouldn't've\": \"would not have\", \"y'all\": \"you all\",\n",
    "\n",
    "                           \"y'all'd\": \"you all would\",\"y'all'd've\": \"you all would have\",\"y'all're\": \"you all are\",\"y'all've\": \"you all have\",\n",
    "\n",
    "                           \"you'd\": \"you would\", \"you'd've\": \"you would have\", \"you'll\": \"you will\", \"you'll've\": \"you will have\",\n",
    "\n",
    "                           \"you're\": \"you are\", \"you've\": \"you have\"}"
   ]
  },
  {
   "cell_type": "code",
   "execution_count": 5,
   "metadata": {
    "execution": {
     "iopub.execute_input": "2021-07-06T03:55:26.196465Z",
     "iopub.status.busy": "2021-07-06T03:55:26.195745Z",
     "iopub.status.idle": "2021-07-06T03:55:35.466841Z",
     "shell.execute_reply": "2021-07-06T03:55:35.465879Z",
     "shell.execute_reply.started": "2021-07-05T14:59:03.652962Z"
    },
    "papermill": {
     "duration": 9.301191,
     "end_time": "2021-07-06T03:55:35.466992",
     "exception": false,
     "start_time": "2021-07-06T03:55:26.165801",
     "status": "completed"
    },
    "tags": []
   },
   "outputs": [
    {
     "name": "stdout",
     "output_type": "stream",
     "text": [
      "News:  administration union territory daman diu revoked order made compulsory women tie rakhis male colleagues occasion rakshabandhan august administration forced withdraw decision within hours issuing circular received flak employees slammed social media\n",
      "Headline: <START> daman diu revokes mandatory rakshabandhan offices order <END>\n",
      "\n",
      "\n",
      "News:  malaika arora slammed instagram user trolled divorcing rich man fun alimony life wearing short clothes going gym salon enjoying vacation user commented malaika responded certainly got get damn facts right spewing know nothing\n",
      "Headline: <START> malaika slams user trolled divorcing rich man <END>\n",
      "\n",
      "\n",
      "News:  indira gandhi institute medical sciences patna thursday made corrections marital declaration form changing virgin option unmarried earlier bihar health minister defined virgin unmarried woman consider term objectionable institute however faced strong backlash asking new recruits declare virginity form\n",
      "Headline: <START> virgin corrected unmarried igims form <END>\n",
      "\n",
      "\n",
      "News:  lashkar taiba kashmir commander abu dujana killed security forces said kabhi hum aage kabhi aap aaj aapne pakad liya mubarak aapko caught added surrender whatever fate happen hum nikley shaheed hone added\n",
      "Headline: <START> aaj aapne pakad liya let man dujana killed <END>\n",
      "\n",
      "\n",
      "News:  hotels maharashtra train staff spot signs sex trafficking including frequent requests bed linen changes disturb signs left room doors days mobile phone app called rescue allow staff alert police suspicious behaviour developed initiative backed maharashtra government\n",
      "Headline: <START> hotel staff get training spot signs sex trafficking <END>\n",
      "\n",
      "\n",
      "News:  year old man wednesday found hanging inside washroom delhi police station called interrogation family alleged could emotionally physically tortured police said man named suspect kidnapping case married woman relationship earlier\n",
      "Headline: <START> man found dead delhi police station kin allege foul play <END>\n",
      "\n",
      "\n",
      "News:  delhi high court reduced compensation awarded motor accident victim found negligence part parties compensation lakh earlier awarded victim court observed possible despite vehicle driven permissible limit accident occur jaywalker suddenly appears road\n",
      "Headline: <START> delhi reduces aid negligent accident victim <END>\n",
      "\n",
      "\n",
      "News:  year old dalit woman allegedly lynched agra villagers thought behind recent cases chopping hair sleeping women family members woman left home around wednesday said pleaded lost way took one responsible chopping women hair\n",
      "Headline: <START> old lynched rumours cutting people hair <END>\n",
      "\n",
      "\n",
      "News:  inquiry aircraft accident investigation bureau found pawan hans helicopter flying critically low height resulting crash near bombay high report mentioned instructor despite aware low height take control helicopter trainee pilot able manage situation\n",
      "Headline: <START> chopper flying critically low led bombay high crash <END>\n",
      "\n",
      "\n",
      "News:  congress party opened bank called state bank tomato uttar pradesh lucknow protest rising prices vegetable people get interests deposits also get vegetables loan bank deposited tomatoes get months said man\n",
      "Headline: <START> congress opens state bank tomato lucknow <END>\n",
      "\n",
      "\n"
     ]
    }
   ],
   "source": [
    "StopWords = set(stopwords.words('english'))\n",
    "def preprocess(text):\n",
    "    new_text = text.lower() #Lowercasing text.\n",
    "    new_text = re.sub(r'\\([^)]*\\)', '', new_text) #Removing punctuations and special characters.\n",
    "    new_text = re.sub('\"','', new_text) #Removing double quotes.\n",
    "    new_text = ' '.join([contraction_mapping[t] if t in contraction_mapping else t for t in new_text.split(\" \")]) #Replacing contractions.   \n",
    "    new_text = re.sub(r\"'s\\b\",\"\",new_text) #Eliminating apostrophe.\n",
    "    new_text = re.sub(\"[^a-zA-Z]\", \" \", new_text) #Removing non-alphabetical characters\n",
    "    new_text = ' '.join([word for word in new_text.split() if word not in StopWords]) #Removing stopwords.\n",
    "    new_text = ' '.join([word for word in new_text.split() if len(word) >= 3]) #Removing very short words\n",
    "    return new_text\n",
    "\n",
    "#Apply above preprocessing to both text and summary separately.\n",
    "text_cleaned = []\n",
    "summ_cleaned = []\n",
    "for text in data['text']:\n",
    "    text_cleaned.append(preprocess(text))\n",
    "for summary in data['headlines']:\n",
    "    summ_cleaned.append(preprocess(summary))\n",
    "clean_df = pd.DataFrame()\n",
    "clean_df['text'] = text_cleaned\n",
    "clean_df['headline'] = summ_cleaned\n",
    "\n",
    "#Replacing empty string summaries with nan values and then dropping those datapoints.\n",
    "clean_df['headline'].replace('', np.nan, inplace=True)\n",
    "clean_df.dropna(axis=0, inplace=True)\n",
    "\n",
    "#Adding START and END tokens to summaries for later use.\n",
    "clean_df['headline'] = clean_df['headline'].apply(lambda x: '<START>' + ' '+ x + ' '+ '<END>')\n",
    "for i in range(10):\n",
    "    print('News: ', clean_df['text'][i])\n",
    "    print('Headline:', clean_df['headline'][i])\n",
    "    print('\\n')"
   ]
  },
  {
   "cell_type": "code",
   "execution_count": 6,
   "metadata": {
    "execution": {
     "iopub.execute_input": "2021-07-06T03:55:35.541065Z",
     "iopub.status.busy": "2021-07-06T03:55:35.540107Z",
     "iopub.status.idle": "2021-07-06T03:55:36.034710Z",
     "shell.execute_reply": "2021-07-06T03:55:36.035098Z",
     "shell.execute_reply.started": "2021-07-05T14:59:28.910919Z"
    },
    "papermill": {
     "duration": 0.54809,
     "end_time": "2021-07-06T03:55:36.035226",
     "exception": false,
     "start_time": "2021-07-06T03:55:35.487136",
     "status": "completed"
    },
    "tags": []
   },
   "outputs": [
    {
     "name": "stdout",
     "output_type": "stream",
     "text": [
      "53 14\n"
     ]
    }
   ],
   "source": [
    "#Get max length of texts and summaries.\n",
    "max_len_news = max([len(text.split()) for text in clean_df['text']])\n",
    "max_len_headline = max([len(text.split()) for text in clean_df['headline']])\n",
    "print(max_len_news, max_len_headline)"
   ]
  },
  {
   "cell_type": "markdown",
   "metadata": {
    "papermill": {
     "duration": 0.016633,
     "end_time": "2021-07-06T03:55:36.068678",
     "exception": false,
     "start_time": "2021-07-06T03:55:36.052045",
     "status": "completed"
    },
    "tags": []
   },
   "source": [
    "# III. Tokenization and Data Split"
   ]
  },
  {
   "cell_type": "code",
   "execution_count": 7,
   "metadata": {
    "execution": {
     "iopub.execute_input": "2021-07-06T03:55:36.110511Z",
     "iopub.status.busy": "2021-07-06T03:55:36.109942Z",
     "iopub.status.idle": "2021-07-06T03:55:46.037112Z",
     "shell.execute_reply": "2021-07-06T03:55:46.036611Z",
     "shell.execute_reply.started": "2021-07-05T14:59:30.610411Z"
    },
    "papermill": {
     "duration": 9.952227,
     "end_time": "2021-07-06T03:55:46.037227",
     "exception": false,
     "start_time": "2021-07-06T03:55:36.085000",
     "status": "completed"
    },
    "tags": []
   },
   "outputs": [],
   "source": [
    "X_train, X_test, y_train, y_test = train_test_split(clean_df['text'], clean_df['headline'], test_size=0.2, random_state=0)\n",
    "\n",
    "#Keras tokenizer for news text.\n",
    "news_tokenizer = Tokenizer()\n",
    "news_tokenizer.fit_on_texts(list(X_train))\n",
    "x_train_seq = news_tokenizer.texts_to_sequences(X_train)\n",
    "x_test_seq = news_tokenizer.texts_to_sequences(X_test)\n",
    "x_train_pad = pad_sequences(x_train_seq, maxlen=max_len_news, padding='post') #Post padding short texts with 0s.\n",
    "x_test_pad = pad_sequences(x_test_seq, maxlen=max_len_news, padding='post')\n",
    "#Vocab size of texts.\n",
    "news_vocab = len(news_tokenizer.word_index) + 1\n",
    "\n",
    "#Keras Tokenizer for summaries.\n",
    "headline_tokenizer = Tokenizer()\n",
    "headline_tokenizer.fit_on_texts(list(y_train))\n",
    "y_train_seq = headline_tokenizer.texts_to_sequences(y_train)\n",
    "y_test_seq = headline_tokenizer.texts_to_sequences(y_test)\n",
    "y_train_pad = pad_sequences(y_train_seq, maxlen=max_len_headline, padding='post')\n",
    "y_test_pad = pad_sequences(y_test_seq, maxlen=max_len_headline, padding='post')\n",
    "#Vocab size of summaries.\n",
    "headline_vocab = len(headline_tokenizer.word_index) + 1"
   ]
  },
  {
   "cell_type": "markdown",
   "metadata": {
    "papermill": {
     "duration": 0.016061,
     "end_time": "2021-07-06T03:55:46.070216",
     "exception": false,
     "start_time": "2021-07-06T03:55:46.054155",
     "status": "completed"
    },
    "tags": []
   },
   "source": [
    "# **[Attention Layer Reference](https://github.com/jananiarunachalam/Research-Paper-Summarization/blob/master/Abstractive_Summarization.ipynb)**"
   ]
  },
  {
   "cell_type": "code",
   "execution_count": 8,
   "metadata": {
    "execution": {
     "iopub.execute_input": "2021-07-06T03:55:46.133720Z",
     "iopub.status.busy": "2021-07-06T03:55:46.131927Z",
     "iopub.status.idle": "2021-07-06T03:55:46.134376Z",
     "shell.execute_reply": "2021-07-06T03:55:46.134870Z",
     "shell.execute_reply.started": "2021-07-05T15:00:07.941913Z"
    },
    "papermill": {
     "duration": 0.048339,
     "end_time": "2021-07-06T03:55:46.134992",
     "exception": false,
     "start_time": "2021-07-06T03:55:46.086653",
     "status": "completed"
    },
    "tags": []
   },
   "outputs": [],
   "source": [
    "class AttentionLayer(Layer):\n",
    "    \"\"\"\n",
    "    This class implements Bahdanau attention (https://arxiv.org/pdf/1409.0473.pdf).\n",
    "    There are three sets of weights introduced W_a, U_a, and V_a\n",
    "     \"\"\"\n",
    "\n",
    "    def __init__(self, **kwargs):\n",
    "        super(AttentionLayer, self).__init__(**kwargs)\n",
    "\n",
    "    def build(self, input_shape):\n",
    "        assert isinstance(input_shape, list)\n",
    "        # Create a trainable weight variable for this layer.\n",
    "\n",
    "        self.W_a = self.add_weight(name='W_a',\n",
    "                                   shape=tf.TensorShape((input_shape[0][2], input_shape[0][2])),\n",
    "                                   initializer='uniform',\n",
    "                                   trainable=True)\n",
    "        self.U_a = self.add_weight(name='U_a',\n",
    "                                   shape=tf.TensorShape((input_shape[1][2], input_shape[0][2])),\n",
    "                                   initializer='uniform',\n",
    "                                   trainable=True)\n",
    "        self.V_a = self.add_weight(name='V_a',\n",
    "                                   shape=tf.TensorShape((input_shape[0][2], 1)),\n",
    "                                   initializer='uniform',\n",
    "                                   trainable=True)\n",
    "\n",
    "        super(AttentionLayer, self).build(input_shape)  # Be sure to call this at the end\n",
    "\n",
    "    def call(self, inputs, verbose=False):\n",
    "        \"\"\"\n",
    "        inputs: [encoder_output_sequence, decoder_output_sequence]\n",
    "        \"\"\"\n",
    "        assert type(inputs) == list\n",
    "        encoder_out_seq, decoder_out_seq = inputs\n",
    "        if verbose:\n",
    "            print('encoder_out_seq>', encoder_out_seq.shape)\n",
    "            print('decoder_out_seq>', decoder_out_seq.shape)\n",
    "\n",
    "        def energy_step(inputs, states):\n",
    "            \"\"\" Step function for computing energy for a single decoder state \"\"\"\n",
    "\n",
    "            assert_msg = \"States must be a list. However states {} is of type {}\".format(states, type(states))\n",
    "            assert isinstance(states, list) or isinstance(states, tuple), assert_msg\n",
    "\n",
    "            \"\"\" Some parameters required for shaping tensors\"\"\"\n",
    "            en_seq_len, en_hidden = encoder_out_seq.shape[1], encoder_out_seq.shape[2]\n",
    "            de_hidden = inputs.shape[-1]\n",
    "\n",
    "            \"\"\" Computing S.Wa where S=[s0, s1, ..., si]\"\"\"\n",
    "            # <= batch_size*en_seq_len, latent_dim\n",
    "            reshaped_enc_outputs = K.reshape(encoder_out_seq, (-1, en_hidden))\n",
    "            # <= batch_size*en_seq_len, latent_dim\n",
    "            W_a_dot_s = K.reshape(K.dot(reshaped_enc_outputs, self.W_a), (-1, en_seq_len, en_hidden))\n",
    "            if verbose:\n",
    "                print('wa.s>',W_a_dot_s.shape)\n",
    "\n",
    "            \"\"\" Computing hj.Ua \"\"\"\n",
    "            U_a_dot_h = K.expand_dims(K.dot(inputs, self.U_a), 1)  # <= batch_size, 1, latent_dim\n",
    "            if verbose:\n",
    "                print('Ua.h>',U_a_dot_h.shape)\n",
    "\n",
    "            \"\"\" tanh(S.Wa + hj.Ua) \"\"\"\n",
    "            # <= batch_size*en_seq_len, latent_dim\n",
    "            reshaped_Ws_plus_Uh = K.tanh(K.reshape(W_a_dot_s + U_a_dot_h, (-1, en_hidden)))\n",
    "            if verbose:\n",
    "                print('Ws+Uh>', reshaped_Ws_plus_Uh.shape)\n",
    "\n",
    "            \"\"\" softmax(va.tanh(S.Wa + hj.Ua)) \"\"\"\n",
    "            # <= batch_size, en_seq_len\n",
    "            e_i = K.reshape(K.dot(reshaped_Ws_plus_Uh, self.V_a), (-1, en_seq_len))\n",
    "            # <= batch_size, en_seq_len\n",
    "            e_i = K.softmax(e_i)\n",
    "\n",
    "            if verbose:\n",
    "                print('ei>', e_i.shape)\n",
    "\n",
    "            return e_i, [e_i]\n",
    "\n",
    "        def context_step(inputs, states):\n",
    "            \"\"\" Step function for computing ci using ei \"\"\"\n",
    "            # <= batch_size, hidden_size\n",
    "            c_i = K.sum(encoder_out_seq * K.expand_dims(inputs, -1), axis=1)\n",
    "            if verbose:\n",
    "                print('ci>', c_i.shape)\n",
    "            return c_i, [c_i]\n",
    "\n",
    "        def create_inital_state(inputs, hidden_size):\n",
    "            # We are not using initial states, but need to pass something to K.rnn funciton\n",
    "            fake_state = K.zeros_like(inputs)  # <= (batch_size, enc_seq_len, latent_dim\n",
    "            fake_state = K.sum(fake_state, axis=[1, 2])  # <= (batch_size)\n",
    "            fake_state = K.expand_dims(fake_state)  # <= (batch_size, 1)\n",
    "            fake_state = K.tile(fake_state, [1, hidden_size])  # <= (batch_size, latent_dim\n",
    "            return fake_state\n",
    "\n",
    "        fake_state_c = create_inital_state(encoder_out_seq, encoder_out_seq.shape[-1])\n",
    "        fake_state_e = create_inital_state(encoder_out_seq, encoder_out_seq.shape[1])  # <= (batch_size, enc_seq_len, latent_dim\n",
    "\n",
    "        \"\"\" Computing energy outputs \"\"\"\n",
    "        # e_outputs => (batch_size, de_seq_len, en_seq_len)\n",
    "        last_out, e_outputs, _ = K.rnn(\n",
    "            energy_step, decoder_out_seq, [fake_state_e],\n",
    "        )\n",
    "\n",
    "        \"\"\" Computing context vectors \"\"\"\n",
    "        last_out, c_outputs, _ = K.rnn(\n",
    "            context_step, e_outputs, [fake_state_c],\n",
    "        )\n",
    "\n",
    "        return c_outputs, e_outputs\n",
    "\n",
    "    def compute_output_shape(self, input_shape):\n",
    "        \"\"\" Outputs produced by the layer \"\"\"\n",
    "        return [\n",
    "            tf.TensorShape((input_shape[1][0], input_shape[1][1], input_shape[1][2])),\n",
    "            tf.TensorShape((input_shape[1][0], input_shape[1][1], input_shape[0][1]))\n",
    "        ]"
   ]
  },
  {
   "cell_type": "markdown",
   "metadata": {
    "papermill": {
     "duration": 0.015927,
     "end_time": "2021-07-06T03:55:46.167076",
     "exception": false,
     "start_time": "2021-07-06T03:55:46.151149",
     "status": "completed"
    },
    "tags": []
   },
   "source": [
    " # IV. Training Model (Encoder-Decoder Architecture)"
   ]
  },
  {
   "cell_type": "code",
   "execution_count": 9,
   "metadata": {
    "execution": {
     "iopub.execute_input": "2021-07-06T03:55:46.210920Z",
     "iopub.status.busy": "2021-07-06T03:55:46.210292Z",
     "iopub.status.idle": "2021-07-06T03:55:50.075650Z",
     "shell.execute_reply": "2021-07-06T03:55:50.076828Z",
     "shell.execute_reply.started": "2021-07-05T15:00:29.225106Z"
    },
    "papermill": {
     "duration": 3.893587,
     "end_time": "2021-07-06T03:55:50.077025",
     "exception": false,
     "start_time": "2021-07-06T03:55:46.183438",
     "status": "completed"
    },
    "tags": []
   },
   "outputs": [
    {
     "name": "stdout",
     "output_type": "stream",
     "text": [
      "Model: \"functional_1\"\n",
      "__________________________________________________________________________________________________\n",
      "Layer (type)                    Output Shape         Param #     Connected to                     \n",
      "==================================================================================================\n",
      "input_1 (InputLayer)            [(None, 53)]         0                                            \n",
      "__________________________________________________________________________________________________\n",
      "embedding (Embedding)           (None, 53, 300)      20888100    input_1[0][0]                    \n",
      "__________________________________________________________________________________________________\n",
      "lstm (LSTM)                     [(None, 53, 500), (N 1602000     embedding[0][0]                  \n",
      "__________________________________________________________________________________________________\n",
      "input_2 (InputLayer)            [(None, None)]       0                                            \n",
      "__________________________________________________________________________________________________\n",
      "lstm_1 (LSTM)                   [(None, 53, 500), (N 2002000     lstm[0][0]                       \n",
      "__________________________________________________________________________________________________\n",
      "embedding_1 (Embedding)         (None, None, 300)    8969400     input_2[0][0]                    \n",
      "__________________________________________________________________________________________________\n",
      "lstm_2 (LSTM)                   [(None, 53, 500), (N 2002000     lstm_1[0][0]                     \n",
      "__________________________________________________________________________________________________\n",
      "lstm_3 (LSTM)                   [(None, None, 500),  1602000     embedding_1[0][0]                \n",
      "                                                                 lstm_2[0][1]                     \n",
      "                                                                 lstm_2[0][2]                     \n",
      "__________________________________________________________________________________________________\n",
      "attention_layer (AttentionLayer ((None, None, 500),  500500      lstm_2[0][0]                     \n",
      "                                                                 lstm_3[0][0]                     \n",
      "__________________________________________________________________________________________________\n",
      "concat_layer (Concatenate)      (None, None, 1000)   0           lstm_3[0][0]                     \n",
      "                                                                 attention_layer[0][0]            \n",
      "__________________________________________________________________________________________________\n",
      "time_distributed (TimeDistribut (None, None, 29898)  29927898    concat_layer[0][0]               \n",
      "==================================================================================================\n",
      "Total params: 67,493,898\n",
      "Trainable params: 67,493,898\n",
      "Non-trainable params: 0\n",
      "__________________________________________________________________________________________________\n"
     ]
    }
   ],
   "source": [
    "K.clear_session()\n",
    "\n",
    "embedding_dim = 300 #Size of word embeddings.\n",
    "latent_dim = 500 #No. of neurons in LSTM layer.\n",
    "\n",
    "encoder_input = Input(shape=(max_len_news, ))\n",
    "encoder_emb = Embedding(news_vocab, embedding_dim, trainable=True)(encoder_input) #Embedding Layer\n",
    "\n",
    "#Three-stacked LSTM layers for encoder. Return_state returns the activation state vectors, a(t) and c(t), return_sequences return the output of the neurons y(t).\n",
    "#With layers stacked one above the other, y(t) of previous layer becomes x(t) of next layer.\n",
    "encoder_lstm1 = LSTM(latent_dim, return_sequences=True, return_state=True, dropout=0.3, recurrent_dropout=0.2)\n",
    "y_1, a_1, c_1 = encoder_lstm1(encoder_emb)\n",
    "\n",
    "encoder_lstm2 = LSTM(latent_dim, return_sequences=True, return_state=True, dropout=0.3, recurrent_dropout=0.2)\n",
    "y_2, a_2, c_2 = encoder_lstm2(y_1)\n",
    "\n",
    "encoder_lstm3 = LSTM(latent_dim, return_sequences=True, return_state=True, dropout=0.3, recurrent_dropout=0.2)\n",
    "encoder_output, a_enc, c_enc = encoder_lstm3(y_2)\n",
    "\n",
    "#Single LSTM layer for decoder followed by Dense softmax layer to predict the next word in summary.\n",
    "decoder_input = Input(shape=(None,))\n",
    "decoder_emb = Embedding(headline_vocab, embedding_dim, trainable=True)(decoder_input)\n",
    "\n",
    "decoder_lstm = LSTM(latent_dim, return_sequences=True, return_state=True, dropout=0.3, recurrent_dropout=0.2)\n",
    "decoder_output, decoder_fwd, decoder_back = decoder_lstm(decoder_emb, initial_state=[a_enc, c_enc]) #Final output states of encoder last layer are fed into decoder.\n",
    "\n",
    "#Attention Layer\n",
    "attn_layer = AttentionLayer(name='attention_layer') \n",
    "attn_out, attn_states = attn_layer([encoder_output, decoder_output]) \n",
    "\n",
    "decoder_concat_input = Concatenate(axis=-1, name='concat_layer')([decoder_output, attn_out])\n",
    "\n",
    "decoder_dense = TimeDistributed(Dense(headline_vocab, activation='softmax'))\n",
    "decoder_output = decoder_dense(decoder_concat_input)\n",
    "\n",
    "model = Model([encoder_input, decoder_input], decoder_output)\n",
    "model.summary()\n"
   ]
  },
  {
   "cell_type": "code",
   "execution_count": 10,
   "metadata": {
    "execution": {
     "iopub.execute_input": "2021-07-06T03:55:50.124332Z",
     "iopub.status.busy": "2021-07-06T03:55:50.123493Z",
     "iopub.status.idle": "2021-07-06T04:55:46.647132Z",
     "shell.execute_reply": "2021-07-06T04:55:46.646481Z",
     "shell.execute_reply.started": "2021-07-05T15:02:00.125633Z"
    },
    "papermill": {
     "duration": 3596.552998,
     "end_time": "2021-07-06T04:55:46.647273",
     "exception": false,
     "start_time": "2021-07-06T03:55:50.094275",
     "status": "completed"
    },
    "tags": []
   },
   "outputs": [
    {
     "name": "stdout",
     "output_type": "stream",
     "text": [
      "Epoch 1/50\n",
      "161/161 [==============================] - 207s 1s/step - loss: 4.8073 - val_loss: 4.3462\n",
      "Epoch 2/50\n",
      "161/161 [==============================] - 206s 1s/step - loss: 4.2998 - val_loss: 4.0381\n",
      "Epoch 3/50\n",
      "161/161 [==============================] - 208s 1s/step - loss: 3.9862 - val_loss: 3.7943\n",
      "Epoch 4/50\n",
      "161/161 [==============================] - 209s 1s/step - loss: 3.7020 - val_loss: 3.5962\n",
      "Epoch 5/50\n",
      "161/161 [==============================] - 208s 1s/step - loss: 3.4428 - val_loss: 3.4502\n",
      "Epoch 6/50\n",
      "161/161 [==============================] - 210s 1s/step - loss: 3.2190 - val_loss: 3.3321\n",
      "Epoch 7/50\n",
      "161/161 [==============================] - 210s 1s/step - loss: 3.0243 - val_loss: 3.2364\n",
      "Epoch 8/50\n",
      "161/161 [==============================] - 210s 1s/step - loss: 2.8511 - val_loss: 3.1845\n",
      "Epoch 9/50\n",
      "161/161 [==============================] - 209s 1s/step - loss: 2.6933 - val_loss: 3.1503\n",
      "Epoch 10/50\n",
      "161/161 [==============================] - 209s 1s/step - loss: 2.5474 - val_loss: 3.1114\n",
      "Epoch 11/50\n",
      "161/161 [==============================] - 210s 1s/step - loss: 2.4120 - val_loss: 3.0939\n",
      "Epoch 12/50\n",
      "161/161 [==============================] - 212s 1s/step - loss: 2.2851 - val_loss: 3.0763\n",
      "Epoch 13/50\n",
      "161/161 [==============================] - 211s 1s/step - loss: 2.1651 - val_loss: 3.0751\n",
      "Epoch 14/50\n",
      "161/161 [==============================] - 210s 1s/step - loss: 2.0540 - val_loss: 3.0685\n",
      "Epoch 15/50\n",
      "161/161 [==============================] - 211s 1s/step - loss: 1.9512 - val_loss: 3.0684\n",
      "Epoch 16/50\n",
      "161/161 [==============================] - 211s 1s/step - loss: 1.8534 - val_loss: 3.0734\n",
      "Epoch 17/50\n",
      "161/161 [==============================] - 211s 1s/step - loss: 1.7613 - val_loss: 3.0699\n",
      "Epoch 00017: early stopping\n"
     ]
    }
   ],
   "source": [
    "#Training the model with Early Stopping callback on val_loss.\n",
    "model.compile(optimizer='rmsprop', loss='sparse_categorical_crossentropy')\n",
    "callback = keras.callbacks.EarlyStopping(monitor='val_loss', mode='min', verbose=1, patience=2)\n",
    "history=model.fit([x_train_pad,y_train_pad[:,:-1]], y_train_pad.reshape(y_train_pad.shape[0],y_train_pad.shape[1], 1)[:,1:] ,epochs=50,callbacks=[callback],batch_size=512, validation_data=([x_test_pad,y_test_pad[:,:-1]], y_test_pad.reshape(y_test_pad.shape[0],y_test_pad.shape[1], 1)[:,1:]))"
   ]
  },
  {
   "cell_type": "markdown",
   "metadata": {
    "papermill": {
     "duration": 0.77295,
     "end_time": "2021-07-06T04:55:48.191874",
     "exception": false,
     "start_time": "2021-07-06T04:55:47.418924",
     "status": "completed"
    },
    "tags": []
   },
   "source": [
    "# V. Inference Stage: Making Predictions!"
   ]
  },
  {
   "cell_type": "code",
   "execution_count": 11,
   "metadata": {
    "execution": {
     "iopub.execute_input": "2021-07-06T04:55:49.749332Z",
     "iopub.status.busy": "2021-07-06T04:55:49.748474Z",
     "iopub.status.idle": "2021-07-06T04:55:49.971417Z",
     "shell.execute_reply": "2021-07-06T04:55:49.970447Z",
     "shell.execute_reply.started": "2021-07-05T16:20:47.400524Z"
    },
    "papermill": {
     "duration": 1.007643,
     "end_time": "2021-07-06T04:55:49.971532",
     "exception": false,
     "start_time": "2021-07-06T04:55:48.963889",
     "status": "completed"
    },
    "tags": []
   },
   "outputs": [],
   "source": [
    "#Encoder inference model with trained inputs and outputs.\n",
    "encoder_model = Model(inputs=encoder_input, outputs=[encoder_output, a_enc, c_enc])\n",
    "\n",
    "#Initialising state vectors for decoder.\n",
    "decoder_initial_state_a = Input(shape=(latent_dim,))\n",
    "decoder_initial_state_c = Input(shape=(latent_dim,))\n",
    "decoder_hidden_state = Input(shape=(max_len_news, latent_dim))\n",
    "\n",
    "#Decoder inference model\n",
    "decoder_out, decoder_a, decoder_c = decoder_lstm(decoder_emb, initial_state=[decoder_initial_state_a, decoder_initial_state_c])\n",
    "attn_out_inf, attn_states_inf = attn_layer([decoder_hidden_state, decoder_out])\n",
    "decoder_inf_concat = Concatenate(axis=-1, name='concat')([decoder_out, attn_out_inf])\n",
    "\n",
    "decoder_final = decoder_dense(decoder_inf_concat)\n",
    "decoder_model = Model([decoder_input]+[decoder_hidden_state, decoder_initial_state_a, decoder_initial_state_c], [decoder_final]+[decoder_a, decoder_c])"
   ]
  },
  {
   "cell_type": "code",
   "execution_count": 12,
   "metadata": {
    "execution": {
     "iopub.execute_input": "2021-07-06T04:55:51.551925Z",
     "iopub.status.busy": "2021-07-06T04:55:51.551291Z",
     "iopub.status.idle": "2021-07-06T04:55:51.555561Z",
     "shell.execute_reply": "2021-07-06T04:55:51.554987Z",
     "shell.execute_reply.started": "2021-07-05T16:20:52.654604Z"
    },
    "papermill": {
     "duration": 0.813867,
     "end_time": "2021-07-06T04:55:51.555675",
     "exception": false,
     "start_time": "2021-07-06T04:55:50.741808",
     "status": "completed"
    },
    "tags": []
   },
   "outputs": [],
   "source": [
    "#Function to generate output summaries.\n",
    "def decoded_sequence(input_seq):\n",
    "    encoder_out, encoder_a, encoder_c = encoder_model.predict(input_seq) #Collecting output from encoder inference model.\n",
    "    #Initialise input to decoder neuron with START token. Thereafter output token predicted by each neuron will be used as input for the subsequent.\n",
    "    #Single elt matrix used for maintaining dimensions.\n",
    "    next_input = np.zeros((1,1))\n",
    "    next_input[0,0] = headline_tokenizer.word_index['start']\n",
    "    output_seq = ''\n",
    "    #Stopping condition to terminate loop when one summary is generated.\n",
    "    stop = False\n",
    "    while not stop:\n",
    "        #Output from decoder inference model, with output states of encoder used for initialisation.\n",
    "        decoded_out, trans_state_a, trans_state_c = decoder_model.predict([next_input] + [encoder_out, encoder_a, encoder_c])\n",
    "        #Get index of output token from y(t) of decoder.\n",
    "        output_idx = np.argmax(decoded_out[0, -1, :])\n",
    "        #If output index corresponds to END token, summary is terminated without of course adding the END token itself.\n",
    "        if output_idx == headline_tokenizer.word_index['end']: \n",
    "            stop = True\n",
    "        elif output_idx>0 and output_idx != headline_tokenizer.word_index['start'] :\n",
    "            output_token = headline_tokenizer.index_word[output_idx] #Generate the token from index.\n",
    "            output_seq = output_seq + ' ' + output_token #Append to summary\n",
    "        \n",
    "        #Pass the current output index as input to next neuron.\n",
    "        next_input[0,0] = output_idx\n",
    "        #Continously update the transient state vectors in decoder.\n",
    "        encoder_a, encoder_c = trans_state_a, trans_state_c\n",
    "        \n",
    "    return output_seq        "
   ]
  },
  {
   "cell_type": "code",
   "execution_count": 13,
   "metadata": {
    "execution": {
     "iopub.execute_input": "2021-07-06T04:55:53.143303Z",
     "iopub.status.busy": "2021-07-06T04:55:53.142426Z",
     "iopub.status.idle": "2021-07-06T04:56:05.031003Z",
     "shell.execute_reply": "2021-07-06T04:56:05.029974Z",
     "shell.execute_reply.started": "2021-07-05T16:21:42.716100Z"
    },
    "papermill": {
     "duration": 12.69054,
     "end_time": "2021-07-06T04:56:05.031119",
     "exception": false,
     "start_time": "2021-07-06T04:55:52.340579",
     "status": "completed"
    },
    "tags": []
   },
   "outputs": [
    {
     "name": "stdout",
     "output_type": "stream",
     "text": [
      "News: qualcomm monday announced chinese court order banning import sale apple iphone iphone models china due software patent violations court found apple violated two qualcomm software patents around resizing photographs managing applications touchscreen apple however said iphones remain sale china\n",
      "Actual Headline: <START> qualcomm wins import ban apple iphones china <END>\n",
      "Predicted Headline:  qualcomm may pay china iphone sales report\n",
      "News: congress appointed year old amit chavda new chief gujarat unit replacing year old bharatsinh solanki held post since december comes days congress president rahul gandhi said younger generations come forward take party leadership inspired gandhi words year old shantaram naik resigned goa congress chief\n",
      "Actual Headline: <START> congress appoints old amit chavda new gujarat head <END>\n",
      "Predicted Headline:  congress shares year old son congress\n",
      "News: male nurse employed delhi institute liver biliary sciences booked allegedly stealing government hospital stents selling private hospitals kerala hospital provided stents subsidised rate man associates allegedly helped fabricate false documents hide tracks\n",
      "Actual Headline: <START> nurse sells stents worth stolen hospital <END>\n",
      "Predicted Headline:  doctor fined lakh kidney kidney kidney bihar\n",
      "News: finance minister arun jaitley announced government develop scheme assign every major small enterprise india unique presenting budget said scheme along lines aadhaar provided identity every indian eased delivery public services\n",
      "Actual Headline: <START> govt announces aadhaar like unique businesses <END>\n",
      "Predicted Headline:  govt allocates crore rural rural areas\n",
      "News: international organization migration slammed social media giants like facebook failing tackle human trafficking platform smugglers often use facebook reach migrants false promises jobs europe iom spokesperson leonard doyle said traffickers use whatsapp send videos tortured migrants families extortion added\n",
      "Actual Headline: <START> slams facebook failing tackle human trafficking <END>\n",
      "Predicted Headline:  facebook asks people find facebook data alcohol\n",
      "News: ahead budget session parliamentary affairs minister ananth kumar sunday said government everything possible get triple talaq bill passed parliament bill seeks criminalise practise instant triple talaq passed lok sabha winter session got stalled rajya sabha\n",
      "Actual Headline: <START> everything get triple talaq bill passed govt <END>\n",
      "Predicted Headline:  cabinet approves bill triple talaq bill\n",
      "News: university tokyo scientists recently revealed created world strongest indoor magnetic field revealed deliberately blew equipment create record measuring tesla field strength times higher generated magnets mri machines million times stronger earth magnetic field\n",
      "Actual Headline: <START> scientists blew equipment create strongest magnetic field <END>\n",
      "Predicted Headline:  scientists record record times atom\n",
      "News: mosque kerala hosted parents around candidates arrived state give neet medical entrance exam apart mosque could also accommodate people nearby houses shops well mosque officials said mosque offered shelter food parents accompanying candidates last year well\n",
      "Actual Headline: <START> kerala mosque hosts parents neet candidates <END>\n",
      "Predicted Headline:  kerala teachers get free caste caste cows\n",
      "News: levi strauss sued louis vuitton maker lvmh unit kenzo trademark infringement kenzo allegedly used levi federally protected tab array garments including new clothing line featuring singer britney spears levi said put distinctive tabs bearing name attached garments pockets since sight identification products\n",
      "Actual Headline: <START> levi sues louis vuitton maker unit trademark breach <END>\n",
      "Predicted Headline:  mcdonald sues trademark copying trademark\n",
      "News: kannada actor politician upendra karnataka pragnyavantha janatha paksha unveiled green yellow auto rickshaw party symbol auto signifies running aim government chosen people support run without problems said unveiling symbol party launched earlier year\n",
      "Actual Headline: <START> kannada actor upendra unveils auto rickshaw party symbol <END>\n",
      "Predicted Headline:  karnataka government releases electric car\n",
      "News: congress spokesperson randeep singh surjewala accused narendra modi bjp president amit shah misusing central bureau investigation turning country premier investigation agency bjp dirty tricks department listed six instances nalleged misuse including cbi clean chit madhya pradesh shivraj singh chouhan vyapam medical scam\n",
      "Actual Headline: <START> modi turning cbi dirty tricks dept bjp congress <END>\n",
      "Predicted Headline:  congress slams amit shah security security security congress\n",
      "News: kings punjab mentor cum director cricket virender sehwag revealed team bought chris gayle back opener simply side means lot opening batsman gayle prove danger opposition added notably gayle bought kxip crore went unsold twice\n",
      "Actual Headline: <START> bought chris gayle back kings punjab sehwag <END>\n",
      "Predicted Headline:  sehwag hit sixes hit sixes sehwag\n",
      "News: karnataka kumaraswamy thursday met congress president rahul gandhi urged take early decision cabinet expansion coalition government present cabinet comprises congress members including chief minister deputy chief minister coalition government secure leadership former karnataka siddaramaiah kumaraswamy said\n",
      "Actual Headline: <START> urged rahul early decision taka cabinet expansion <END>\n",
      "Predicted Headline:  rahul gandhi inducted taka minister\n",
      "News: journalism student arrested blackmailing congress mla threatening frame rape case filed fir mla madhya pradesh mla hemant katare earlier said accused molestation social media demanded money settle issue arrested taking money\n",
      "Actual Headline: <START> rape case cong mla complained blackmail <END>\n",
      "Predicted Headline:  mla accused rape mla mla mla rape case\n",
      "News: australian steve plain became fastest climber scale highest peaks seven continents taking days scaled mount everest monday according expedition company nepal year old began mission climbing mount vinson antarctica record earlier held polish climber scaled peaks days\n",
      "Actual Headline: <START> australian fastest scale highest peaks continents <END>\n",
      "Predicted Headline:  smith breaks world oldest person\n"
     ]
    }
   ],
   "source": [
    "#Print predicted summmaries and actual summaries for 10 texts. \n",
    "#We see that some of the summaries go a bit off topic, but the domain concerned, eg. politics, cricket, etc. remains largely same. \n",
    "#Further improvements can be done with Attention mechanisms, where each subsequent word generated in the summary receives different weightage\n",
    "#from earlier generated words.\n",
    "predicted = []\n",
    "for i in range(15):\n",
    "    print('News:', X_test.iloc[i])\n",
    "    print('Actual Headline:', y_test.iloc[i])\n",
    "    print('Predicted Headline:', decoded_sequence(x_test_pad[i].reshape(1, max_len_news)))\n",
    "    predicted.append(decoded_sequence(x_test_pad[i].reshape(1, max_len_news)).split())"
   ]
  },
  {
   "cell_type": "markdown",
   "metadata": {
    "papermill": {
     "duration": 0.829149,
     "end_time": "2021-07-06T04:56:06.873984",
     "exception": false,
     "start_time": "2021-07-06T04:56:06.044835",
     "status": "completed"
    },
    "tags": []
   },
   "source": [
    "# VI. Evaluation- BLEU score\n",
    "    (BLEU - Bilingual Evaluation Understudy: commonly used for such seq2seq tasks like Machine Translation)"
   ]
  },
  {
   "cell_type": "markdown",
   "metadata": {
    "papermill": {
     "duration": 0.786931,
     "end_time": "2021-07-06T04:56:08.450600",
     "exception": false,
     "start_time": "2021-07-06T04:56:07.663669",
     "status": "completed"
    },
    "tags": []
   },
   "source": [
    "* BLEU score, evaluated between 0 to 1, checks how much the predicted sequence is similar to 1 or more reference sequences, in this case our y_test data.\n",
    "* Naively, it is the ratio of: No. of words in machine output matching with ref / Total words in machine output. \n",
    "* A modified version involves clipping the count of matches if a word is present is more often in the machine output than in the reference. \n",
    "   Ex: \n",
    "       The cat is on the mat (Reference)\n",
    "       the the the the  (Machine output)\n",
    "       As per the naive evaluation, the BLEU score would be 1, since all the's appear in the reference. But we clip that count to just 2 (see why?), and get 0.5.\n",
    "* Further, if the machine output is shorter than the reference, a Brevity Penalty(BP) is applied to the BLEU. \n",
    "           BP = exp(1 - r/c), where r is len(reference) and c is len(candidate output).\n",
    "  In case of longer candidates, the BLEU score already penalises it adequately in the modified case.\n",
    "* Here, we use the BLEU metric available in the NLTK library."
   ]
  },
  {
   "cell_type": "code",
   "execution_count": 14,
   "metadata": {
    "execution": {
     "iopub.execute_input": "2021-07-06T04:56:10.054881Z",
     "iopub.status.busy": "2021-07-06T04:56:10.049827Z",
     "iopub.status.idle": "2021-07-06T04:56:10.086408Z",
     "shell.execute_reply": "2021-07-06T04:56:10.085975Z"
    },
    "papermill": {
     "duration": 0.84777,
     "end_time": "2021-07-06T04:56:10.086509",
     "exception": false,
     "start_time": "2021-07-06T04:56:09.238739",
     "status": "completed"
    },
    "tags": []
   },
   "outputs": [],
   "source": [
    "summaries = list(y_test)\n",
    "references = []\n",
    "for summ in summaries:\n",
    "    ref = summ.split()\n",
    "    ref.remove('<START>')\n",
    "    ref.remove('<END>')\n",
    "    references.append(ref)"
   ]
  },
  {
   "cell_type": "code",
   "execution_count": 15,
   "metadata": {
    "execution": {
     "iopub.execute_input": "2021-07-06T04:56:11.670511Z",
     "iopub.status.busy": "2021-07-06T04:56:11.669837Z",
     "iopub.status.idle": "2021-07-06T04:56:11.682538Z",
     "shell.execute_reply": "2021-07-06T04:56:11.681858Z"
    },
    "papermill": {
     "duration": 0.807687,
     "end_time": "2021-07-06T04:56:11.682682",
     "exception": false,
     "start_time": "2021-07-06T04:56:10.874995",
     "status": "completed"
    },
    "tags": []
   },
   "outputs": [
    {
     "name": "stdout",
     "output_type": "stream",
     "text": [
      "[['qualcomm', 'wins', 'import', 'ban', 'apple', 'iphones', 'china']] ['qualcomm', 'may', 'pay', 'china', 'iphone', 'sales', 'report']\n",
      "0.7311104457090247\n",
      "[['congress', 'appoints', 'old', 'amit', 'chavda', 'new', 'gujarat', 'head']] ['congress', 'shares', 'year', 'old', 'son', 'congress']\n",
      "0.5444460596606694\n",
      "[['nurse', 'sells', 'stents', 'worth', 'stolen', 'hospital']] ['doctor', 'fined', 'lakh', 'kidney', 'kidney', 'kidney', 'bihar']\n",
      "0\n",
      "[['govt', 'announces', 'aadhaar', 'like', 'unique', 'businesses']] ['govt', 'allocates', 'crore', 'rural', 'rural', 'areas']\n",
      "0.6389431042462724\n",
      "[['slams', 'facebook', 'failing', 'tackle', 'human', 'trafficking']] ['facebook', 'asks', 'people', 'find', 'facebook', 'data', 'alcohol']\n",
      "0.6147881529512643\n",
      "[['everything', 'get', 'triple', 'talaq', 'bill', 'passed', 'govt']] ['cabinet', 'approves', 'bill', 'triple', 'talaq', 'bill']\n",
      "0.40027649424491646\n",
      "[['scientists', 'blew', 'equipment', 'create', 'strongest', 'magnetic', 'field']] ['scientists', 'record', 'record', 'times', 'atom']\n",
      "0.4482700320176827\n",
      "[['kerala', 'mosque', 'hosts', 'parents', 'neet', 'candidates']] ['kerala', 'teachers', 'get', 'free', 'caste', 'caste', 'cows']\n",
      "0.6147881529512643\n",
      "[['levi', 'sues', 'louis', 'vuitton', 'maker', 'unit', 'trademark', 'breach']] ['mcdonald', 'sues', 'trademark', 'copying', 'trademark']\n",
      "0.43645382979233377\n",
      "[['kannada', 'actor', 'upendra', 'unveils', 'auto', 'rickshaw', 'party', 'symbol']] ['karnataka', 'government', 'releases', 'electric', 'car']\n",
      "0\n",
      "[['modi', 'turning', 'cbi', 'dirty', 'tricks', 'dept', 'bjp', 'congress']] ['congress', 'slams', 'amit', 'shah', 'security', 'security', 'security', 'congress']\n",
      "0.5946035575013605\n",
      "[['bought', 'chris', 'gayle', 'back', 'kings', 'punjab', 'sehwag']] ['sehwag', 'hit', 'sixes', 'hit', 'sixes', 'sehwag']\n",
      "0.5408536609893481\n",
      "[['urged', 'rahul', 'early', 'decision', 'taka', 'cabinet', 'expansion']] ['rahul', 'gandhi', 'inducted', 'taka', 'minister']\n",
      "0.5330859115179258\n",
      "[['rape', 'case', 'cong', 'mla', 'complained', 'blackmail']] ['mla', 'accused', 'rape', 'mla', 'mla', 'mla', 'rape', 'case']\n",
      "0.48109772909788073\n",
      "[['australian', 'fastest', 'scale', 'highest', 'peaks', 'continents']] ['smith', 'breaks', 'world', 'oldest', 'person']\n",
      "0\n"
     ]
    },
    {
     "name": "stderr",
     "output_type": "stream",
     "text": [
      "/opt/conda/lib/python3.7/site-packages/nltk/translate/bleu_score.py:490: UserWarning: \n",
      "Corpus/Sentence contains 0 counts of 2-gram overlaps.\n",
      "BLEU scores might be undesirable; use SmoothingFunction().\n",
      "  warnings.warn(_msg)\n",
      "/opt/conda/lib/python3.7/site-packages/nltk/translate/bleu_score.py:490: UserWarning: \n",
      "Corpus/Sentence contains 0 counts of 4-gram overlaps.\n",
      "BLEU scores might be undesirable; use SmoothingFunction().\n",
      "  warnings.warn(_msg)\n",
      "/opt/conda/lib/python3.7/site-packages/nltk/translate/bleu_score.py:490: UserWarning: \n",
      "Corpus/Sentence contains 0 counts of 3-gram overlaps.\n",
      "BLEU scores might be undesirable; use SmoothingFunction().\n",
      "  warnings.warn(_msg)\n"
     ]
    }
   ],
   "source": [
    "refs = []\n",
    "smooth = SmoothingFunction().method4\n",
    "for i in range(15):\n",
    "    refs.append(references[i])\n",
    "    print(refs, predicted[i])\n",
    "    print(sentence_bleu(refs, predicted[i], weights=(0.25,0.25,0.25,0.25)))\n",
    "    refs.remove(references[i])"
   ]
  }
 ],
 "metadata": {
  "kernelspec": {
   "display_name": "Python 3",
   "language": "python",
   "name": "python3"
  },
  "language_info": {
   "codemirror_mode": {
    "name": "ipython",
    "version": 3
   },
   "file_extension": ".py",
   "mimetype": "text/x-python",
   "name": "python",
   "nbconvert_exporter": "python",
   "pygments_lexer": "ipython3",
   "version": "3.7.6"
  },
  "papermill": {
   "duration": 3658.64326,
   "end_time": "2021-07-06T04:56:13.622399",
   "environment_variables": {},
   "exception": null,
   "input_path": "__notebook__.ipynb",
   "output_path": "__notebook__.ipynb",
   "parameters": {},
   "start_time": "2021-07-06T03:55:14.979139",
   "version": "2.1.0"
  }
 },
 "nbformat": 4,
 "nbformat_minor": 4
}
